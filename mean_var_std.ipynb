{
 "cells": [
  {
   "cell_type": "code",
   "execution_count": 8,
   "id": "68003dc8-0a54-421e-88e1-6629d62127e7",
   "metadata": {},
   "outputs": [
    {
     "name": "stdout",
     "output_type": "stream",
     "text": [
      "{'mean': [[3.0, 4.0, 5.0], [1.0, 4.0, 7.0], 4.0], 'variance': [[6.0, 6.0, 6.0], [0.6666666666666666, 0.6666666666666666, 0.6666666666666666], 6.666666666666667], 'atandard_deviation': [[2.449489742783178, 2.449489742783178, 2.449489742783178], [0.816496580927726, 0.816496580927726, 0.816496580927726], 2.581988897471611], 'max': [[6, 7, 8], [2, 5, 8], 8], 'min': [[0, 1, 2], [0, 3, 6], 0], 'sum': [[9, 12, 15], [3, 12, 21], 36]}\n"
     ]
    }
   ],
   "source": [
    "import pandas as pd \n",
    "import numpy as np \n",
    "def calculate(input_list):\n",
    "    if len(input_list)!=9 :\n",
    "        raise ValueError(\"list must contain atleast 9 elements\")\n",
    "    else:\n",
    "        matrix= np.array(input_list).reshape(3,3)\n",
    "        calculations = {\"mean\":[matrix.mean(axis=0).tolist() , matrix.mean(axis=1).tolist(), matrix.mean().tolist()] ,\n",
    "                        \"variance\":[matrix.var(axis=0).tolist() , matrix.var(axis=1).tolist(), matrix.var().tolist()], \n",
    "                         \"atandard_deviation\":[matrix.std(axis=0).tolist() , matrix.std(axis=1).tolist(), matrix.std().tolist()],\n",
    "                        \"max\":[matrix.max(axis=0).tolist() , matrix.max(axis=1).tolist(), matrix.max().tolist()],\n",
    "                         \"min\" :[matrix.min(axis=0).tolist() , matrix.min(axis=1).tolist(), matrix.min().tolist()],\n",
    "        \"sum\":[matrix.sum(axis=0).tolist() , matrix.sum(axis=1).tolist(), matrix.sum().tolist()]}\n",
    "    return calculations \n",
    "print(calculate([0,1,2,3,4,5,6,7,8]))\n",
    "                                \n",
    "                                               \n"
   ]
  },
  {
   "cell_type": "code",
   "execution_count": null,
   "id": "6b85ef57-8af7-46e7-82a2-eae59ad8daa9",
   "metadata": {},
   "outputs": [],
   "source": []
  }
 ],
 "metadata": {
  "kernelspec": {
   "display_name": "Python 3 (ipykernel)",
   "language": "python",
   "name": "python3"
  },
  "language_info": {
   "codemirror_mode": {
    "name": "ipython",
    "version": 3
   },
   "file_extension": ".py",
   "mimetype": "text/x-python",
   "name": "python",
   "nbconvert_exporter": "python",
   "pygments_lexer": "ipython3",
   "version": "3.12.7"
  }
 },
 "nbformat": 4,
 "nbformat_minor": 5
}
